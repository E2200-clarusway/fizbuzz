{
 "metadata": {
  "language_info": {
   "codemirror_mode": {
    "name": "ipython",
    "version": 3
   },
   "file_extension": ".py",
   "mimetype": "text/x-python",
   "name": "python",
   "nbconvert_exporter": "python",
   "pygments_lexer": "ipython3",
   "version": 3
  },
  "orig_nbformat": 2
 },
 "nbformat": 4,
 "nbformat_minor": 2,
 "cells": [
  {
   "cell_type": "code",
   "execution_count": null,
   "metadata": {},
   "outputs": [],
   "source": [
    "num = int(input(\"enter a top limit number: \"))\n",
    "lst = []\n",
    "for i in range(1, num+1):\n",
    "    if i % 3 == 0 and i % 5 == 0:\n",
    "        lst.append(\"FizzBuzz\")\n",
    "    elif i %5 == 0:\n",
    "        lst.append(\"Buzz\")\n",
    "    elif i % 3 == 0:\n",
    "        lst.append(\"Fizz\")\n",
    "    else:\n",
    "        lst.append(i)\n",
    "print(lst)"
   ]
  }
 ]
}